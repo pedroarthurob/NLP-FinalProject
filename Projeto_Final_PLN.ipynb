{
  "nbformat": 4,
  "nbformat_minor": 0,
  "metadata": {
    "colab": {
      "provenance": [],
      "authorship_tag": "ABX9TyNyx0KrvSAzGlZgxhWJXpCD",
      "include_colab_link": true
    },
    "kernelspec": {
      "name": "python3",
      "display_name": "Python 3"
    },
    "language_info": {
      "name": "python"
    }
  },
  "cells": [
    {
      "cell_type": "markdown",
      "metadata": {
        "id": "view-in-github",
        "colab_type": "text"
      },
      "source": [
        "<a href=\"https://colab.research.google.com/github/pedroarthurob/NLP-FinalProject/blob/main/Projeto_Final_PLN.ipynb\" target=\"_parent\"><img src=\"https://colab.research.google.com/assets/colab-badge.svg\" alt=\"Open In Colab\"/></a>"
      ]
    },
    {
      "cell_type": "markdown",
      "source": [
        "## Instalando todas as dependências do Projeto."
      ],
      "metadata": {
        "id": "49HlJ3Yzz1Yc"
      }
    },
    {
      "cell_type": "markdown",
      "source": [
        "### Downloads"
      ],
      "metadata": {
        "id": "phkEQqHISW8f"
      }
    },
    {
      "cell_type": "code",
      "source": [
        "!pip install 'crewai[tools]'"
      ],
      "metadata": {
        "colab": {
          "base_uri": "https://localhost:8080/"
        },
        "id": "mFk66ksitqdv",
        "outputId": "9e1e19e2-990b-4e44-9468-b6cee5dd7319",
        "collapsed": true
      },
      "execution_count": 10,
      "outputs": [
        {
          "output_type": "stream",
          "name": "stdout",
          "text": [
            "Requirement already satisfied: crewai[tools] in /usr/local/lib/python3.10/dist-packages (0.74.2)\n",
            "Requirement already satisfied: appdirs>=1.4.4 in /usr/local/lib/python3.10/dist-packages (from crewai[tools]) (1.4.4)\n",
            "Requirement already satisfied: auth0-python>=4.7.1 in /usr/local/lib/python3.10/dist-packages (from crewai[tools]) (4.7.2)\n",
            "Requirement already satisfied: chromadb>=0.4.24 in /usr/local/lib/python3.10/dist-packages (from crewai[tools]) (0.4.24)\n",
            "Requirement already satisfied: click>=8.1.7 in /usr/local/lib/python3.10/dist-packages (from crewai[tools]) (8.1.7)\n",
            "Requirement already satisfied: crewai-tools>=0.13.2 in /usr/local/lib/python3.10/dist-packages (from crewai[tools]) (0.13.2)\n",
            "Requirement already satisfied: instructor>=1.3.3 in /usr/local/lib/python3.10/dist-packages (from crewai[tools]) (1.6.2)\n",
            "Requirement already satisfied: json-repair>=0.25.2 in /usr/local/lib/python3.10/dist-packages (from crewai[tools]) (0.30.0)\n",
            "Requirement already satisfied: jsonref>=1.1.0 in /usr/local/lib/python3.10/dist-packages (from crewai[tools]) (1.1.0)\n",
            "Requirement already satisfied: langchain>=0.2.16 in /usr/local/lib/python3.10/dist-packages (from crewai[tools]) (0.3.4)\n",
            "Requirement already satisfied: litellm>=1.44.22 in /usr/local/lib/python3.10/dist-packages (from crewai[tools]) (1.50.0)\n",
            "Requirement already satisfied: openai>=1.13.3 in /usr/local/lib/python3.10/dist-packages (from crewai[tools]) (1.52.0)\n",
            "Requirement already satisfied: opentelemetry-api>=1.22.0 in /usr/local/lib/python3.10/dist-packages (from crewai[tools]) (1.27.0)\n",
            "Requirement already satisfied: opentelemetry-exporter-otlp-proto-http>=1.22.0 in /usr/local/lib/python3.10/dist-packages (from crewai[tools]) (1.27.0)\n",
            "Requirement already satisfied: opentelemetry-sdk>=1.22.0 in /usr/local/lib/python3.10/dist-packages (from crewai[tools]) (1.27.0)\n",
            "Requirement already satisfied: pydantic>=2.4.2 in /usr/local/lib/python3.10/dist-packages (from crewai[tools]) (2.9.2)\n",
            "Requirement already satisfied: python-dotenv>=1.0.0 in /usr/local/lib/python3.10/dist-packages (from crewai[tools]) (1.0.1)\n",
            "Requirement already satisfied: pyvis>=0.3.2 in /usr/local/lib/python3.10/dist-packages (from crewai[tools]) (0.3.2)\n",
            "Requirement already satisfied: regex>=2024.9.11 in /usr/local/lib/python3.10/dist-packages (from crewai[tools]) (2024.9.11)\n",
            "Requirement already satisfied: tomli-w>=1.1.0 in /usr/local/lib/python3.10/dist-packages (from crewai[tools]) (1.1.0)\n",
            "Requirement already satisfied: uv>=0.4.18 in /usr/local/lib/python3.10/dist-packages (from crewai[tools]) (0.4.24)\n",
            "Requirement already satisfied: aiohttp<4.0.0,>=3.8.5 in /usr/local/lib/python3.10/dist-packages (from auth0-python>=4.7.1->crewai[tools]) (3.10.10)\n",
            "Requirement already satisfied: cryptography<44.0.0,>=43.0.1 in /usr/local/lib/python3.10/dist-packages (from auth0-python>=4.7.1->crewai[tools]) (43.0.1)\n",
            "Requirement already satisfied: pyjwt<3.0.0,>=2.8.0 in /usr/local/lib/python3.10/dist-packages (from auth0-python>=4.7.1->crewai[tools]) (2.9.0)\n",
            "Requirement already satisfied: requests<3.0.0,>=2.31.0 in /usr/local/lib/python3.10/dist-packages (from auth0-python>=4.7.1->crewai[tools]) (2.32.3)\n",
            "Requirement already satisfied: urllib3<3.0.0,>=2.0.7 in /usr/local/lib/python3.10/dist-packages (from auth0-python>=4.7.1->crewai[tools]) (2.2.3)\n",
            "Requirement already satisfied: build>=1.0.3 in /usr/local/lib/python3.10/dist-packages (from chromadb>=0.4.24->crewai[tools]) (1.2.2.post1)\n",
            "Requirement already satisfied: chroma-hnswlib==0.7.3 in /usr/local/lib/python3.10/dist-packages (from chromadb>=0.4.24->crewai[tools]) (0.7.3)\n",
            "Requirement already satisfied: fastapi>=0.95.2 in /usr/local/lib/python3.10/dist-packages (from chromadb>=0.4.24->crewai[tools]) (0.115.2)\n",
            "Requirement already satisfied: uvicorn>=0.18.3 in /usr/local/lib/python3.10/dist-packages (from uvicorn[standard]>=0.18.3->chromadb>=0.4.24->crewai[tools]) (0.32.0)\n",
            "Requirement already satisfied: numpy>=1.22.5 in /usr/local/lib/python3.10/dist-packages (from chromadb>=0.4.24->crewai[tools]) (1.26.4)\n",
            "Requirement already satisfied: posthog>=2.4.0 in /usr/local/lib/python3.10/dist-packages (from chromadb>=0.4.24->crewai[tools]) (3.7.0)\n",
            "Requirement already satisfied: typing-extensions>=4.5.0 in /usr/local/lib/python3.10/dist-packages (from chromadb>=0.4.24->crewai[tools]) (4.12.2)\n",
            "Requirement already satisfied: pulsar-client>=3.1.0 in /usr/local/lib/python3.10/dist-packages (from chromadb>=0.4.24->crewai[tools]) (3.5.0)\n",
            "Requirement already satisfied: onnxruntime>=1.14.1 in /usr/local/lib/python3.10/dist-packages (from chromadb>=0.4.24->crewai[tools]) (1.19.2)\n",
            "Requirement already satisfied: opentelemetry-exporter-otlp-proto-grpc>=1.2.0 in /usr/local/lib/python3.10/dist-packages (from chromadb>=0.4.24->crewai[tools]) (1.27.0)\n",
            "Requirement already satisfied: opentelemetry-instrumentation-fastapi>=0.41b0 in /usr/local/lib/python3.10/dist-packages (from chromadb>=0.4.24->crewai[tools]) (0.48b0)\n",
            "Requirement already satisfied: tokenizers>=0.13.2 in /usr/local/lib/python3.10/dist-packages (from chromadb>=0.4.24->crewai[tools]) (0.19.1)\n",
            "Requirement already satisfied: pypika>=0.48.9 in /usr/local/lib/python3.10/dist-packages (from chromadb>=0.4.24->crewai[tools]) (0.48.9)\n",
            "Requirement already satisfied: tqdm>=4.65.0 in /usr/local/lib/python3.10/dist-packages (from chromadb>=0.4.24->crewai[tools]) (4.66.5)\n",
            "Requirement already satisfied: overrides>=7.3.1 in /usr/local/lib/python3.10/dist-packages (from chromadb>=0.4.24->crewai[tools]) (7.7.0)\n",
            "Requirement already satisfied: importlib-resources in /usr/local/lib/python3.10/dist-packages (from chromadb>=0.4.24->crewai[tools]) (6.4.5)\n",
            "Requirement already satisfied: grpcio>=1.58.0 in /usr/local/lib/python3.10/dist-packages (from chromadb>=0.4.24->crewai[tools]) (1.64.1)\n",
            "Requirement already satisfied: bcrypt>=4.0.1 in /usr/local/lib/python3.10/dist-packages (from chromadb>=0.4.24->crewai[tools]) (4.2.0)\n",
            "Requirement already satisfied: typer>=0.9.0 in /usr/local/lib/python3.10/dist-packages (from chromadb>=0.4.24->crewai[tools]) (0.12.5)\n",
            "Requirement already satisfied: kubernetes>=28.1.0 in /usr/local/lib/python3.10/dist-packages (from chromadb>=0.4.24->crewai[tools]) (31.0.0)\n",
            "Requirement already satisfied: tenacity>=8.2.3 in /usr/local/lib/python3.10/dist-packages (from chromadb>=0.4.24->crewai[tools]) (9.0.0)\n",
            "Requirement already satisfied: PyYAML>=6.0.0 in /usr/local/lib/python3.10/dist-packages (from chromadb>=0.4.24->crewai[tools]) (6.0.2)\n",
            "Requirement already satisfied: mmh3>=4.0.1 in /usr/local/lib/python3.10/dist-packages (from chromadb>=0.4.24->crewai[tools]) (5.0.1)\n",
            "Requirement already satisfied: orjson>=3.9.12 in /usr/local/lib/python3.10/dist-packages (from chromadb>=0.4.24->crewai[tools]) (3.10.9)\n",
            "Requirement already satisfied: beautifulsoup4>=4.12.3 in /usr/local/lib/python3.10/dist-packages (from crewai-tools>=0.13.2->crewai[tools]) (4.12.3)\n",
            "Requirement already satisfied: docker>=7.1.0 in /usr/local/lib/python3.10/dist-packages (from crewai-tools>=0.13.2->crewai[tools]) (7.1.0)\n",
            "Requirement already satisfied: docx2txt>=0.8 in /usr/local/lib/python3.10/dist-packages (from crewai-tools>=0.13.2->crewai[tools]) (0.8)\n",
            "Requirement already satisfied: embedchain>=0.1.114 in /usr/local/lib/python3.10/dist-packages (from crewai-tools>=0.13.2->crewai[tools]) (0.1.123)\n",
            "Requirement already satisfied: lancedb>=0.5.4 in /usr/local/lib/python3.10/dist-packages (from crewai-tools>=0.13.2->crewai[tools]) (0.14.0)\n",
            "Requirement already satisfied: pyright>=1.1.350 in /usr/local/lib/python3.10/dist-packages (from crewai-tools>=0.13.2->crewai[tools]) (1.1.385)\n",
            "Requirement already satisfied: pytest>=8.0.0 in /usr/local/lib/python3.10/dist-packages (from crewai-tools>=0.13.2->crewai[tools]) (8.3.3)\n",
            "Requirement already satisfied: pytube>=15.0.0 in /usr/local/lib/python3.10/dist-packages (from crewai-tools>=0.13.2->crewai[tools]) (15.0.0)\n",
            "Requirement already satisfied: selenium>=4.18.1 in /usr/local/lib/python3.10/dist-packages (from crewai-tools>=0.13.2->crewai[tools]) (4.25.0)\n",
            "Requirement already satisfied: docstring-parser<0.17,>=0.16 in /usr/local/lib/python3.10/dist-packages (from instructor>=1.3.3->crewai[tools]) (0.16)\n",
            "Requirement already satisfied: jinja2<4.0.0,>=3.1.4 in /usr/local/lib/python3.10/dist-packages (from instructor>=1.3.3->crewai[tools]) (3.1.4)\n",
            "Requirement already satisfied: jiter<0.6.0,>=0.5.0 in /usr/local/lib/python3.10/dist-packages (from instructor>=1.3.3->crewai[tools]) (0.5.0)\n",
            "Requirement already satisfied: pydantic-core<3.0.0,>=2.18.0 in /usr/local/lib/python3.10/dist-packages (from instructor>=1.3.3->crewai[tools]) (2.23.4)\n",
            "Requirement already satisfied: rich<14.0.0,>=13.7.0 in /usr/local/lib/python3.10/dist-packages (from instructor>=1.3.3->crewai[tools]) (13.9.2)\n",
            "Requirement already satisfied: SQLAlchemy<3,>=1.4 in /usr/local/lib/python3.10/dist-packages (from langchain>=0.2.16->crewai[tools]) (2.0.36)\n",
            "Requirement already satisfied: async-timeout<5.0.0,>=4.0.0 in /usr/local/lib/python3.10/dist-packages (from langchain>=0.2.16->crewai[tools]) (4.0.3)\n",
            "Requirement already satisfied: langchain-core<0.4.0,>=0.3.12 in /usr/local/lib/python3.10/dist-packages (from langchain>=0.2.16->crewai[tools]) (0.3.12)\n",
            "Requirement already satisfied: langchain-text-splitters<0.4.0,>=0.3.0 in /usr/local/lib/python3.10/dist-packages (from langchain>=0.2.16->crewai[tools]) (0.3.0)\n",
            "Requirement already satisfied: langsmith<0.2.0,>=0.1.17 in /usr/local/lib/python3.10/dist-packages (from langchain>=0.2.16->crewai[tools]) (0.1.136)\n",
            "Requirement already satisfied: importlib-metadata>=6.8.0 in /usr/local/lib/python3.10/dist-packages (from litellm>=1.44.22->crewai[tools]) (8.4.0)\n",
            "Requirement already satisfied: jsonschema<5.0.0,>=4.22.0 in /usr/local/lib/python3.10/dist-packages (from litellm>=1.44.22->crewai[tools]) (4.23.0)\n",
            "Requirement already satisfied: tiktoken>=0.7.0 in /usr/local/lib/python3.10/dist-packages (from litellm>=1.44.22->crewai[tools]) (0.7.0)\n",
            "Requirement already satisfied: anyio<5,>=3.5.0 in /usr/local/lib/python3.10/dist-packages (from openai>=1.13.3->crewai[tools]) (3.7.1)\n",
            "Requirement already satisfied: distro<2,>=1.7.0 in /usr/lib/python3/dist-packages (from openai>=1.13.3->crewai[tools]) (1.7.0)\n",
            "Requirement already satisfied: httpx<1,>=0.23.0 in /usr/local/lib/python3.10/dist-packages (from openai>=1.13.3->crewai[tools]) (0.27.2)\n",
            "Requirement already satisfied: sniffio in /usr/local/lib/python3.10/dist-packages (from openai>=1.13.3->crewai[tools]) (1.3.1)\n",
            "Requirement already satisfied: deprecated>=1.2.6 in /usr/local/lib/python3.10/dist-packages (from opentelemetry-api>=1.22.0->crewai[tools]) (1.2.14)\n",
            "Requirement already satisfied: googleapis-common-protos~=1.52 in /usr/local/lib/python3.10/dist-packages (from opentelemetry-exporter-otlp-proto-http>=1.22.0->crewai[tools]) (1.65.0)\n",
            "Requirement already satisfied: opentelemetry-exporter-otlp-proto-common==1.27.0 in /usr/local/lib/python3.10/dist-packages (from opentelemetry-exporter-otlp-proto-http>=1.22.0->crewai[tools]) (1.27.0)\n",
            "Requirement already satisfied: opentelemetry-proto==1.27.0 in /usr/local/lib/python3.10/dist-packages (from opentelemetry-exporter-otlp-proto-http>=1.22.0->crewai[tools]) (1.27.0)\n",
            "Requirement already satisfied: protobuf<5.0,>=3.19 in /usr/local/lib/python3.10/dist-packages (from opentelemetry-proto==1.27.0->opentelemetry-exporter-otlp-proto-http>=1.22.0->crewai[tools]) (4.25.5)\n",
            "Requirement already satisfied: opentelemetry-semantic-conventions==0.48b0 in /usr/local/lib/python3.10/dist-packages (from opentelemetry-sdk>=1.22.0->crewai[tools]) (0.48b0)\n",
            "Requirement already satisfied: annotated-types>=0.6.0 in /usr/local/lib/python3.10/dist-packages (from pydantic>=2.4.2->crewai[tools]) (0.7.0)\n",
            "Requirement already satisfied: ipython>=5.3.0 in /usr/local/lib/python3.10/dist-packages (from pyvis>=0.3.2->crewai[tools]) (7.34.0)\n",
            "Requirement already satisfied: jsonpickle>=1.4.1 in /usr/local/lib/python3.10/dist-packages (from pyvis>=0.3.2->crewai[tools]) (3.3.0)\n",
            "Requirement already satisfied: networkx>=1.11 in /usr/local/lib/python3.10/dist-packages (from pyvis>=0.3.2->crewai[tools]) (3.4.1)\n",
            "Requirement already satisfied: aiohappyeyeballs>=2.3.0 in /usr/local/lib/python3.10/dist-packages (from aiohttp<4.0.0,>=3.8.5->auth0-python>=4.7.1->crewai[tools]) (2.4.3)\n",
            "Requirement already satisfied: aiosignal>=1.1.2 in /usr/local/lib/python3.10/dist-packages (from aiohttp<4.0.0,>=3.8.5->auth0-python>=4.7.1->crewai[tools]) (1.3.1)\n",
            "Requirement already satisfied: attrs>=17.3.0 in /usr/local/lib/python3.10/dist-packages (from aiohttp<4.0.0,>=3.8.5->auth0-python>=4.7.1->crewai[tools]) (24.2.0)\n",
            "Requirement already satisfied: frozenlist>=1.1.1 in /usr/local/lib/python3.10/dist-packages (from aiohttp<4.0.0,>=3.8.5->auth0-python>=4.7.1->crewai[tools]) (1.4.1)\n",
            "Requirement already satisfied: multidict<7.0,>=4.5 in /usr/local/lib/python3.10/dist-packages (from aiohttp<4.0.0,>=3.8.5->auth0-python>=4.7.1->crewai[tools]) (6.1.0)\n",
            "Requirement already satisfied: yarl<2.0,>=1.12.0 in /usr/local/lib/python3.10/dist-packages (from aiohttp<4.0.0,>=3.8.5->auth0-python>=4.7.1->crewai[tools]) (1.15.2)\n",
            "Requirement already satisfied: idna>=2.8 in /usr/local/lib/python3.10/dist-packages (from anyio<5,>=3.5.0->openai>=1.13.3->crewai[tools]) (3.10)\n",
            "Requirement already satisfied: exceptiongroup in /usr/local/lib/python3.10/dist-packages (from anyio<5,>=3.5.0->openai>=1.13.3->crewai[tools]) (1.2.2)\n",
            "Requirement already satisfied: soupsieve>1.2 in /usr/local/lib/python3.10/dist-packages (from beautifulsoup4>=4.12.3->crewai-tools>=0.13.2->crewai[tools]) (2.6)\n",
            "Requirement already satisfied: packaging>=19.1 in /usr/local/lib/python3.10/dist-packages (from build>=1.0.3->chromadb>=0.4.24->crewai[tools]) (24.1)\n",
            "Requirement already satisfied: pyproject_hooks in /usr/local/lib/python3.10/dist-packages (from build>=1.0.3->chromadb>=0.4.24->crewai[tools]) (1.2.0)\n",
            "Requirement already satisfied: tomli>=1.1.0 in /usr/local/lib/python3.10/dist-packages (from build>=1.0.3->chromadb>=0.4.24->crewai[tools]) (2.0.2)\n",
            "Requirement already satisfied: cffi>=1.12 in /usr/local/lib/python3.10/dist-packages (from cryptography<44.0.0,>=43.0.1->auth0-python>=4.7.1->crewai[tools]) (1.17.1)\n",
            "Requirement already satisfied: wrapt<2,>=1.10 in /usr/local/lib/python3.10/dist-packages (from deprecated>=1.2.6->opentelemetry-api>=1.22.0->crewai[tools]) (1.16.0)\n",
            "Requirement already satisfied: alembic<2.0.0,>=1.13.1 in /usr/local/lib/python3.10/dist-packages (from embedchain>=0.1.114->crewai-tools>=0.13.2->crewai[tools]) (1.13.3)\n",
            "Requirement already satisfied: cohere<6.0,>=5.3 in /usr/local/lib/python3.10/dist-packages (from embedchain>=0.1.114->crewai-tools>=0.13.2->crewai[tools]) (5.11.1)\n",
            "Requirement already satisfied: google-cloud-aiplatform<2.0.0,>=1.26.1 in /usr/local/lib/python3.10/dist-packages (from embedchain>=0.1.114->crewai-tools>=0.13.2->crewai[tools]) (1.70.0)\n",
            "Requirement already satisfied: gptcache<0.2.0,>=0.1.43 in /usr/local/lib/python3.10/dist-packages (from embedchain>=0.1.114->crewai-tools>=0.13.2->crewai[tools]) (0.1.44)\n",
            "Requirement already satisfied: langchain-cohere<0.4.0,>=0.3.0 in /usr/local/lib/python3.10/dist-packages (from embedchain>=0.1.114->crewai-tools>=0.13.2->crewai[tools]) (0.3.1)\n",
            "Requirement already satisfied: langchain-community<0.4.0,>=0.3.1 in /usr/local/lib/python3.10/dist-packages (from embedchain>=0.1.114->crewai-tools>=0.13.2->crewai[tools]) (0.3.3)\n",
            "Requirement already satisfied: langchain-openai<0.3.0,>=0.2.1 in /usr/local/lib/python3.10/dist-packages (from embedchain>=0.1.114->crewai-tools>=0.13.2->crewai[tools]) (0.2.3)\n",
            "Requirement already satisfied: mem0ai<0.2.0,>=0.1.18 in /usr/local/lib/python3.10/dist-packages (from embedchain>=0.1.114->crewai-tools>=0.13.2->crewai[tools]) (0.1.21)\n",
            "Requirement already satisfied: pypdf<6.0.0,>=5.0.0 in /usr/local/lib/python3.10/dist-packages (from embedchain>=0.1.114->crewai-tools>=0.13.2->crewai[tools]) (5.0.1)\n",
            "Requirement already satisfied: pysbd<0.4.0,>=0.3.4 in /usr/local/lib/python3.10/dist-packages (from embedchain>=0.1.114->crewai-tools>=0.13.2->crewai[tools]) (0.3.4)\n",
            "Requirement already satisfied: schema<0.8.0,>=0.7.5 in /usr/local/lib/python3.10/dist-packages (from embedchain>=0.1.114->crewai-tools>=0.13.2->crewai[tools]) (0.7.7)\n",
            "Requirement already satisfied: starlette<0.41.0,>=0.37.2 in /usr/local/lib/python3.10/dist-packages (from fastapi>=0.95.2->chromadb>=0.4.24->crewai[tools]) (0.40.0)\n",
            "Requirement already satisfied: certifi in /usr/local/lib/python3.10/dist-packages (from httpx<1,>=0.23.0->openai>=1.13.3->crewai[tools]) (2024.8.30)\n",
            "Requirement already satisfied: httpcore==1.* in /usr/local/lib/python3.10/dist-packages (from httpx<1,>=0.23.0->openai>=1.13.3->crewai[tools]) (1.0.6)\n",
            "Requirement already satisfied: h11<0.15,>=0.13 in /usr/local/lib/python3.10/dist-packages (from httpcore==1.*->httpx<1,>=0.23.0->openai>=1.13.3->crewai[tools]) (0.14.0)\n",
            "Requirement already satisfied: zipp>=0.5 in /usr/local/lib/python3.10/dist-packages (from importlib-metadata>=6.8.0->litellm>=1.44.22->crewai[tools]) (3.20.2)\n",
            "Requirement already satisfied: setuptools>=18.5 in /usr/local/lib/python3.10/dist-packages (from ipython>=5.3.0->pyvis>=0.3.2->crewai[tools]) (75.1.0)\n",
            "Requirement already satisfied: jedi>=0.16 in /usr/local/lib/python3.10/dist-packages (from ipython>=5.3.0->pyvis>=0.3.2->crewai[tools]) (0.19.1)\n",
            "Requirement already satisfied: decorator in /usr/local/lib/python3.10/dist-packages (from ipython>=5.3.0->pyvis>=0.3.2->crewai[tools]) (4.4.2)\n",
            "Requirement already satisfied: pickleshare in /usr/local/lib/python3.10/dist-packages (from ipython>=5.3.0->pyvis>=0.3.2->crewai[tools]) (0.7.5)\n",
            "Requirement already satisfied: traitlets>=4.2 in /usr/local/lib/python3.10/dist-packages (from ipython>=5.3.0->pyvis>=0.3.2->crewai[tools]) (5.7.1)\n",
            "Requirement already satisfied: prompt-toolkit!=3.0.0,!=3.0.1,<3.1.0,>=2.0.0 in /usr/local/lib/python3.10/dist-packages (from ipython>=5.3.0->pyvis>=0.3.2->crewai[tools]) (3.0.48)\n",
            "Requirement already satisfied: pygments in /usr/local/lib/python3.10/dist-packages (from ipython>=5.3.0->pyvis>=0.3.2->crewai[tools]) (2.18.0)\n",
            "Requirement already satisfied: backcall in /usr/local/lib/python3.10/dist-packages (from ipython>=5.3.0->pyvis>=0.3.2->crewai[tools]) (0.2.0)\n",
            "Requirement already satisfied: matplotlib-inline in /usr/local/lib/python3.10/dist-packages (from ipython>=5.3.0->pyvis>=0.3.2->crewai[tools]) (0.1.7)\n",
            "Requirement already satisfied: pexpect>4.3 in /usr/local/lib/python3.10/dist-packages (from ipython>=5.3.0->pyvis>=0.3.2->crewai[tools]) (4.9.0)\n",
            "Requirement already satisfied: MarkupSafe>=2.0 in /usr/local/lib/python3.10/dist-packages (from jinja2<4.0.0,>=3.1.4->instructor>=1.3.3->crewai[tools]) (3.0.1)\n",
            "Requirement already satisfied: jsonschema-specifications>=2023.03.6 in /usr/local/lib/python3.10/dist-packages (from jsonschema<5.0.0,>=4.22.0->litellm>=1.44.22->crewai[tools]) (2024.10.1)\n",
            "Requirement already satisfied: referencing>=0.28.4 in /usr/local/lib/python3.10/dist-packages (from jsonschema<5.0.0,>=4.22.0->litellm>=1.44.22->crewai[tools]) (0.35.1)\n",
            "Requirement already satisfied: rpds-py>=0.7.1 in /usr/local/lib/python3.10/dist-packages (from jsonschema<5.0.0,>=4.22.0->litellm>=1.44.22->crewai[tools]) (0.20.0)\n",
            "Requirement already satisfied: six>=1.9.0 in /usr/local/lib/python3.10/dist-packages (from kubernetes>=28.1.0->chromadb>=0.4.24->crewai[tools]) (1.16.0)\n",
            "Requirement already satisfied: python-dateutil>=2.5.3 in /usr/local/lib/python3.10/dist-packages (from kubernetes>=28.1.0->chromadb>=0.4.24->crewai[tools]) (2.8.2)\n",
            "Requirement already satisfied: google-auth>=1.0.1 in /usr/local/lib/python3.10/dist-packages (from kubernetes>=28.1.0->chromadb>=0.4.24->crewai[tools]) (2.27.0)\n",
            "Requirement already satisfied: websocket-client!=0.40.0,!=0.41.*,!=0.42.*,>=0.32.0 in /usr/local/lib/python3.10/dist-packages (from kubernetes>=28.1.0->chromadb>=0.4.24->crewai[tools]) (1.8.0)\n",
            "Requirement already satisfied: requests-oauthlib in /usr/local/lib/python3.10/dist-packages (from kubernetes>=28.1.0->chromadb>=0.4.24->crewai[tools]) (1.3.1)\n",
            "Requirement already satisfied: oauthlib>=3.2.2 in /usr/local/lib/python3.10/dist-packages (from kubernetes>=28.1.0->chromadb>=0.4.24->crewai[tools]) (3.2.2)\n",
            "Requirement already satisfied: durationpy>=0.7 in /usr/local/lib/python3.10/dist-packages (from kubernetes>=28.1.0->chromadb>=0.4.24->crewai[tools]) (0.9)\n",
            "Requirement already satisfied: deprecation in /usr/local/lib/python3.10/dist-packages (from lancedb>=0.5.4->crewai-tools>=0.13.2->crewai[tools]) (2.1.0)\n",
            "Requirement already satisfied: pylance==0.18.2 in /usr/local/lib/python3.10/dist-packages (from lancedb>=0.5.4->crewai-tools>=0.13.2->crewai[tools]) (0.18.2)\n",
            "Requirement already satisfied: retry>=0.9.2 in /usr/local/lib/python3.10/dist-packages (from lancedb>=0.5.4->crewai-tools>=0.13.2->crewai[tools]) (0.9.2)\n",
            "Requirement already satisfied: cachetools in /usr/local/lib/python3.10/dist-packages (from lancedb>=0.5.4->crewai-tools>=0.13.2->crewai[tools]) (5.5.0)\n",
            "Requirement already satisfied: pyarrow>=12 in /usr/local/lib/python3.10/dist-packages (from pylance==0.18.2->lancedb>=0.5.4->crewai-tools>=0.13.2->crewai[tools]) (16.1.0)\n",
            "Requirement already satisfied: jsonpatch<2.0,>=1.33 in /usr/local/lib/python3.10/dist-packages (from langchain-core<0.4.0,>=0.3.12->langchain>=0.2.16->crewai[tools]) (1.33)\n",
            "Requirement already satisfied: requests-toolbelt<2.0.0,>=1.0.0 in /usr/local/lib/python3.10/dist-packages (from langsmith<0.2.0,>=0.1.17->langchain>=0.2.16->crewai[tools]) (1.0.0)\n",
            "Requirement already satisfied: coloredlogs in /usr/local/lib/python3.10/dist-packages (from onnxruntime>=1.14.1->chromadb>=0.4.24->crewai[tools]) (15.0.1)\n",
            "Requirement already satisfied: flatbuffers in /usr/local/lib/python3.10/dist-packages (from onnxruntime>=1.14.1->chromadb>=0.4.24->crewai[tools]) (24.3.25)\n",
            "Requirement already satisfied: sympy in /usr/local/lib/python3.10/dist-packages (from onnxruntime>=1.14.1->chromadb>=0.4.24->crewai[tools]) (1.13.3)\n",
            "Requirement already satisfied: opentelemetry-instrumentation-asgi==0.48b0 in /usr/local/lib/python3.10/dist-packages (from opentelemetry-instrumentation-fastapi>=0.41b0->chromadb>=0.4.24->crewai[tools]) (0.48b0)\n",
            "Requirement already satisfied: opentelemetry-instrumentation==0.48b0 in /usr/local/lib/python3.10/dist-packages (from opentelemetry-instrumentation-fastapi>=0.41b0->chromadb>=0.4.24->crewai[tools]) (0.48b0)\n",
            "Requirement already satisfied: opentelemetry-util-http==0.48b0 in /usr/local/lib/python3.10/dist-packages (from opentelemetry-instrumentation-fastapi>=0.41b0->chromadb>=0.4.24->crewai[tools]) (0.48b0)\n",
            "Requirement already satisfied: asgiref~=3.0 in /usr/local/lib/python3.10/dist-packages (from opentelemetry-instrumentation-asgi==0.48b0->opentelemetry-instrumentation-fastapi>=0.41b0->chromadb>=0.4.24->crewai[tools]) (3.8.1)\n",
            "Requirement already satisfied: monotonic>=1.5 in /usr/local/lib/python3.10/dist-packages (from posthog>=2.4.0->chromadb>=0.4.24->crewai[tools]) (1.6)\n",
            "Requirement already satisfied: backoff>=1.10.0 in /usr/local/lib/python3.10/dist-packages (from posthog>=2.4.0->chromadb>=0.4.24->crewai[tools]) (2.2.1)\n",
            "Requirement already satisfied: nodeenv>=1.6.0 in /usr/local/lib/python3.10/dist-packages (from pyright>=1.1.350->crewai-tools>=0.13.2->crewai[tools]) (1.9.1)\n",
            "Requirement already satisfied: iniconfig in /usr/local/lib/python3.10/dist-packages (from pytest>=8.0.0->crewai-tools>=0.13.2->crewai[tools]) (2.0.0)\n",
            "Requirement already satisfied: pluggy<2,>=1.5 in /usr/local/lib/python3.10/dist-packages (from pytest>=8.0.0->crewai-tools>=0.13.2->crewai[tools]) (1.5.0)\n",
            "Requirement already satisfied: charset-normalizer<4,>=2 in /usr/local/lib/python3.10/dist-packages (from requests<3.0.0,>=2.31.0->auth0-python>=4.7.1->crewai[tools]) (3.4.0)\n",
            "Requirement already satisfied: markdown-it-py>=2.2.0 in /usr/local/lib/python3.10/dist-packages (from rich<14.0.0,>=13.7.0->instructor>=1.3.3->crewai[tools]) (3.0.0)\n",
            "Requirement already satisfied: trio~=0.17 in /usr/local/lib/python3.10/dist-packages (from selenium>=4.18.1->crewai-tools>=0.13.2->crewai[tools]) (0.27.0)\n",
            "Requirement already satisfied: trio-websocket~=0.9 in /usr/local/lib/python3.10/dist-packages (from selenium>=4.18.1->crewai-tools>=0.13.2->crewai[tools]) (0.11.1)\n",
            "Requirement already satisfied: greenlet!=0.4.17 in /usr/local/lib/python3.10/dist-packages (from SQLAlchemy<3,>=1.4->langchain>=0.2.16->crewai[tools]) (3.1.1)\n",
            "Requirement already satisfied: huggingface-hub<1.0,>=0.16.4 in /usr/local/lib/python3.10/dist-packages (from tokenizers>=0.13.2->chromadb>=0.4.24->crewai[tools]) (0.24.7)\n",
            "Requirement already satisfied: shellingham>=1.3.0 in /usr/local/lib/python3.10/dist-packages (from typer>=0.9.0->chromadb>=0.4.24->crewai[tools]) (1.5.4)\n",
            "Requirement already satisfied: httptools>=0.5.0 in /usr/local/lib/python3.10/dist-packages (from uvicorn[standard]>=0.18.3->chromadb>=0.4.24->crewai[tools]) (0.6.4)\n",
            "Requirement already satisfied: uvloop!=0.15.0,!=0.15.1,>=0.14.0 in /usr/local/lib/python3.10/dist-packages (from uvicorn[standard]>=0.18.3->chromadb>=0.4.24->crewai[tools]) (0.21.0)\n",
            "Requirement already satisfied: watchfiles>=0.13 in /usr/local/lib/python3.10/dist-packages (from uvicorn[standard]>=0.18.3->chromadb>=0.4.24->crewai[tools]) (0.24.0)\n",
            "Requirement already satisfied: websockets>=10.4 in /usr/local/lib/python3.10/dist-packages (from uvicorn[standard]>=0.18.3->chromadb>=0.4.24->crewai[tools]) (13.1)\n",
            "Requirement already satisfied: Mako in /usr/local/lib/python3.10/dist-packages (from alembic<2.0.0,>=1.13.1->embedchain>=0.1.114->crewai-tools>=0.13.2->crewai[tools]) (1.3.5)\n",
            "Requirement already satisfied: pycparser in /usr/local/lib/python3.10/dist-packages (from cffi>=1.12->cryptography<44.0.0,>=43.0.1->auth0-python>=4.7.1->crewai[tools]) (2.22)\n",
            "Requirement already satisfied: fastavro<2.0.0,>=1.9.4 in /usr/local/lib/python3.10/dist-packages (from cohere<6.0,>=5.3->embedchain>=0.1.114->crewai-tools>=0.13.2->crewai[tools]) (1.9.7)\n",
            "Requirement already satisfied: httpx-sse==0.4.0 in /usr/local/lib/python3.10/dist-packages (from cohere<6.0,>=5.3->embedchain>=0.1.114->crewai-tools>=0.13.2->crewai[tools]) (0.4.0)\n",
            "Requirement already satisfied: parameterized<0.10.0,>=0.9.0 in /usr/local/lib/python3.10/dist-packages (from cohere<6.0,>=5.3->embedchain>=0.1.114->crewai-tools>=0.13.2->crewai[tools]) (0.9.0)\n",
            "Requirement already satisfied: types-requests<3.0.0,>=2.0.0 in /usr/local/lib/python3.10/dist-packages (from cohere<6.0,>=5.3->embedchain>=0.1.114->crewai-tools>=0.13.2->crewai[tools]) (2.32.0.20241016)\n",
            "Requirement already satisfied: pyasn1-modules>=0.2.1 in /usr/local/lib/python3.10/dist-packages (from google-auth>=1.0.1->kubernetes>=28.1.0->chromadb>=0.4.24->crewai[tools]) (0.4.1)\n",
            "Requirement already satisfied: rsa<5,>=3.1.4 in /usr/local/lib/python3.10/dist-packages (from google-auth>=1.0.1->kubernetes>=28.1.0->chromadb>=0.4.24->crewai[tools]) (4.9)\n",
            "Requirement already satisfied: google-api-core!=2.0.*,!=2.1.*,!=2.2.*,!=2.3.*,!=2.4.*,!=2.5.*,!=2.6.*,!=2.7.*,<3.0.0dev,>=1.34.1 in /usr/local/lib/python3.10/dist-packages (from google-api-core[grpc]!=2.0.*,!=2.1.*,!=2.2.*,!=2.3.*,!=2.4.*,!=2.5.*,!=2.6.*,!=2.7.*,<3.0.0dev,>=1.34.1->google-cloud-aiplatform<2.0.0,>=1.26.1->embedchain>=0.1.114->crewai-tools>=0.13.2->crewai[tools]) (2.19.2)\n",
            "Requirement already satisfied: proto-plus<2.0.0dev,>=1.22.3 in /usr/local/lib/python3.10/dist-packages (from google-cloud-aiplatform<2.0.0,>=1.26.1->embedchain>=0.1.114->crewai-tools>=0.13.2->crewai[tools]) (1.24.0)\n",
            "Requirement already satisfied: google-cloud-storage<3.0.0dev,>=1.32.0 in /usr/local/lib/python3.10/dist-packages (from google-cloud-aiplatform<2.0.0,>=1.26.1->embedchain>=0.1.114->crewai-tools>=0.13.2->crewai[tools]) (2.8.0)\n",
            "Requirement already satisfied: google-cloud-bigquery!=3.20.0,<4.0.0dev,>=1.15.0 in /usr/local/lib/python3.10/dist-packages (from google-cloud-aiplatform<2.0.0,>=1.26.1->embedchain>=0.1.114->crewai-tools>=0.13.2->crewai[tools]) (3.25.0)\n",
            "Requirement already satisfied: google-cloud-resource-manager<3.0.0dev,>=1.3.3 in /usr/local/lib/python3.10/dist-packages (from google-cloud-aiplatform<2.0.0,>=1.26.1->embedchain>=0.1.114->crewai-tools>=0.13.2->crewai[tools]) (1.12.5)\n",
            "Requirement already satisfied: shapely<3.0.0dev in /usr/local/lib/python3.10/dist-packages (from google-cloud-aiplatform<2.0.0,>=1.26.1->embedchain>=0.1.114->crewai-tools>=0.13.2->crewai[tools]) (2.0.6)\n",
            "Requirement already satisfied: filelock in /usr/local/lib/python3.10/dist-packages (from huggingface-hub<1.0,>=0.16.4->tokenizers>=0.13.2->chromadb>=0.4.24->crewai[tools]) (3.16.1)\n",
            "Requirement already satisfied: fsspec>=2023.5.0 in /usr/local/lib/python3.10/dist-packages (from huggingface-hub<1.0,>=0.16.4->tokenizers>=0.13.2->chromadb>=0.4.24->crewai[tools]) (2024.6.1)\n",
            "Requirement already satisfied: parso<0.9.0,>=0.8.3 in /usr/local/lib/python3.10/dist-packages (from jedi>=0.16->ipython>=5.3.0->pyvis>=0.3.2->crewai[tools]) (0.8.4)\n",
            "Requirement already satisfied: jsonpointer>=1.9 in /usr/local/lib/python3.10/dist-packages (from jsonpatch<2.0,>=1.33->langchain-core<0.4.0,>=0.3.12->langchain>=0.2.16->crewai[tools]) (3.0.0)\n",
            "Requirement already satisfied: langchain-experimental>=0.3.0 in /usr/local/lib/python3.10/dist-packages (from langchain-cohere<0.4.0,>=0.3.0->embedchain>=0.1.114->crewai-tools>=0.13.2->crewai[tools]) (0.3.2)\n",
            "Requirement already satisfied: pandas>=1.4.3 in /usr/local/lib/python3.10/dist-packages (from langchain-cohere<0.4.0,>=0.3.0->embedchain>=0.1.114->crewai-tools>=0.13.2->crewai[tools]) (2.2.2)\n",
            "Requirement already satisfied: tabulate<0.10.0,>=0.9.0 in /usr/local/lib/python3.10/dist-packages (from langchain-cohere<0.4.0,>=0.3.0->embedchain>=0.1.114->crewai-tools>=0.13.2->crewai[tools]) (0.9.0)\n",
            "Requirement already satisfied: dataclasses-json<0.7,>=0.5.7 in /usr/local/lib/python3.10/dist-packages (from langchain-community<0.4.0,>=0.3.1->embedchain>=0.1.114->crewai-tools>=0.13.2->crewai[tools]) (0.6.7)\n",
            "Requirement already satisfied: pydantic-settings<3.0.0,>=2.4.0 in /usr/local/lib/python3.10/dist-packages (from langchain-community<0.4.0,>=0.3.1->embedchain>=0.1.114->crewai-tools>=0.13.2->crewai[tools]) (2.6.0)\n",
            "Requirement already satisfied: mdurl~=0.1 in /usr/local/lib/python3.10/dist-packages (from markdown-it-py>=2.2.0->rich<14.0.0,>=13.7.0->instructor>=1.3.3->crewai[tools]) (0.1.2)\n",
            "Requirement already satisfied: pytz<2025.0,>=2024.1 in /usr/local/lib/python3.10/dist-packages (from mem0ai<0.2.0,>=0.1.18->embedchain>=0.1.114->crewai-tools>=0.13.2->crewai[tools]) (2024.2)\n",
            "Requirement already satisfied: qdrant-client<2.0.0,>=1.9.1 in /usr/local/lib/python3.10/dist-packages (from mem0ai<0.2.0,>=0.1.18->embedchain>=0.1.114->crewai-tools>=0.13.2->crewai[tools]) (1.12.0)\n",
            "Requirement already satisfied: ptyprocess>=0.5 in /usr/local/lib/python3.10/dist-packages (from pexpect>4.3->ipython>=5.3.0->pyvis>=0.3.2->crewai[tools]) (0.7.0)\n",
            "Requirement already satisfied: wcwidth in /usr/local/lib/python3.10/dist-packages (from prompt-toolkit!=3.0.0,!=3.0.1,<3.1.0,>=2.0.0->ipython>=5.3.0->pyvis>=0.3.2->crewai[tools]) (0.2.13)\n",
            "Requirement already satisfied: py<2.0.0,>=1.4.26 in /usr/local/lib/python3.10/dist-packages (from retry>=0.9.2->lancedb>=0.5.4->crewai-tools>=0.13.2->crewai[tools]) (1.11.0)\n",
            "Requirement already satisfied: sortedcontainers in /usr/local/lib/python3.10/dist-packages (from trio~=0.17->selenium>=4.18.1->crewai-tools>=0.13.2->crewai[tools]) (2.4.0)\n",
            "Requirement already satisfied: outcome in /usr/local/lib/python3.10/dist-packages (from trio~=0.17->selenium>=4.18.1->crewai-tools>=0.13.2->crewai[tools]) (1.3.0.post0)\n",
            "Requirement already satisfied: wsproto>=0.14 in /usr/local/lib/python3.10/dist-packages (from trio-websocket~=0.9->selenium>=4.18.1->crewai-tools>=0.13.2->crewai[tools]) (1.2.0)\n",
            "Requirement already satisfied: pysocks!=1.5.7,<2.0,>=1.5.6 in /usr/local/lib/python3.10/dist-packages (from urllib3[socks]<3,>=1.26->selenium>=4.18.1->crewai-tools>=0.13.2->crewai[tools]) (1.7.1)\n",
            "Requirement already satisfied: propcache>=0.2.0 in /usr/local/lib/python3.10/dist-packages (from yarl<2.0,>=1.12.0->aiohttp<4.0.0,>=3.8.5->auth0-python>=4.7.1->crewai[tools]) (0.2.0)\n",
            "Requirement already satisfied: humanfriendly>=9.1 in /usr/local/lib/python3.10/dist-packages (from coloredlogs->onnxruntime>=1.14.1->chromadb>=0.4.24->crewai[tools]) (10.0)\n",
            "Requirement already satisfied: mpmath<1.4,>=1.1.0 in /usr/local/lib/python3.10/dist-packages (from sympy->onnxruntime>=1.14.1->chromadb>=0.4.24->crewai[tools]) (1.3.0)\n",
            "Requirement already satisfied: marshmallow<4.0.0,>=3.18.0 in /usr/local/lib/python3.10/dist-packages (from dataclasses-json<0.7,>=0.5.7->langchain-community<0.4.0,>=0.3.1->embedchain>=0.1.114->crewai-tools>=0.13.2->crewai[tools]) (3.23.0)\n",
            "Requirement already satisfied: typing-inspect<1,>=0.4.0 in /usr/local/lib/python3.10/dist-packages (from dataclasses-json<0.7,>=0.5.7->langchain-community<0.4.0,>=0.3.1->embedchain>=0.1.114->crewai-tools>=0.13.2->crewai[tools]) (0.9.0)\n",
            "Requirement already satisfied: grpcio-status<2.0.dev0,>=1.33.2 in /usr/local/lib/python3.10/dist-packages (from google-api-core[grpc]!=2.0.*,!=2.1.*,!=2.2.*,!=2.3.*,!=2.4.*,!=2.5.*,!=2.6.*,!=2.7.*,<3.0.0dev,>=1.34.1->google-cloud-aiplatform<2.0.0,>=1.26.1->embedchain>=0.1.114->crewai-tools>=0.13.2->crewai[tools]) (1.48.2)\n",
            "Requirement already satisfied: google-cloud-core<3.0.0dev,>=1.6.0 in /usr/local/lib/python3.10/dist-packages (from google-cloud-bigquery!=3.20.0,<4.0.0dev,>=1.15.0->google-cloud-aiplatform<2.0.0,>=1.26.1->embedchain>=0.1.114->crewai-tools>=0.13.2->crewai[tools]) (2.4.1)\n",
            "Requirement already satisfied: google-resumable-media<3.0dev,>=0.6.0 in /usr/local/lib/python3.10/dist-packages (from google-cloud-bigquery!=3.20.0,<4.0.0dev,>=1.15.0->google-cloud-aiplatform<2.0.0,>=1.26.1->embedchain>=0.1.114->crewai-tools>=0.13.2->crewai[tools]) (2.7.2)\n",
            "Requirement already satisfied: grpc-google-iam-v1<1.0.0dev,>=0.12.4 in /usr/local/lib/python3.10/dist-packages (from google-cloud-resource-manager<3.0.0dev,>=1.3.3->google-cloud-aiplatform<2.0.0,>=1.26.1->embedchain>=0.1.114->crewai-tools>=0.13.2->crewai[tools]) (0.13.1)\n",
            "Requirement already satisfied: tzdata>=2022.7 in /usr/local/lib/python3.10/dist-packages (from pandas>=1.4.3->langchain-cohere<0.4.0,>=0.3.0->embedchain>=0.1.114->crewai-tools>=0.13.2->crewai[tools]) (2024.2)\n",
            "Requirement already satisfied: pyasn1<0.7.0,>=0.4.6 in /usr/local/lib/python3.10/dist-packages (from pyasn1-modules>=0.2.1->google-auth>=1.0.1->kubernetes>=28.1.0->chromadb>=0.4.24->crewai[tools]) (0.6.1)\n",
            "Requirement already satisfied: grpcio-tools>=1.41.0 in /usr/local/lib/python3.10/dist-packages (from qdrant-client<2.0.0,>=1.9.1->mem0ai<0.2.0,>=0.1.18->embedchain>=0.1.114->crewai-tools>=0.13.2->crewai[tools]) (1.62.3)\n",
            "Requirement already satisfied: portalocker<3.0.0,>=2.7.0 in /usr/local/lib/python3.10/dist-packages (from qdrant-client<2.0.0,>=1.9.1->mem0ai<0.2.0,>=0.1.18->embedchain>=0.1.114->crewai-tools>=0.13.2->crewai[tools]) (2.10.1)\n",
            "Requirement already satisfied: google-crc32c<2.0dev,>=1.0 in /usr/local/lib/python3.10/dist-packages (from google-resumable-media<3.0dev,>=0.6.0->google-cloud-bigquery!=3.20.0,<4.0.0dev,>=1.15.0->google-cloud-aiplatform<2.0.0,>=1.26.1->embedchain>=0.1.114->crewai-tools>=0.13.2->crewai[tools]) (1.6.0)\n",
            "Requirement already satisfied: h2<5,>=3 in /usr/local/lib/python3.10/dist-packages (from httpx[http2]>=0.20.0->qdrant-client<2.0.0,>=1.9.1->mem0ai<0.2.0,>=0.1.18->embedchain>=0.1.114->crewai-tools>=0.13.2->crewai[tools]) (4.1.0)\n",
            "Requirement already satisfied: mypy-extensions>=0.3.0 in /usr/local/lib/python3.10/dist-packages (from typing-inspect<1,>=0.4.0->dataclasses-json<0.7,>=0.5.7->langchain-community<0.4.0,>=0.3.1->embedchain>=0.1.114->crewai-tools>=0.13.2->crewai[tools]) (1.0.0)\n",
            "Requirement already satisfied: hyperframe<7,>=6.0 in /usr/local/lib/python3.10/dist-packages (from h2<5,>=3->httpx[http2]>=0.20.0->qdrant-client<2.0.0,>=1.9.1->mem0ai<0.2.0,>=0.1.18->embedchain>=0.1.114->crewai-tools>=0.13.2->crewai[tools]) (6.0.1)\n",
            "Requirement already satisfied: hpack<5,>=4.0 in /usr/local/lib/python3.10/dist-packages (from h2<5,>=3->httpx[http2]>=0.20.0->qdrant-client<2.0.0,>=1.9.1->mem0ai<0.2.0,>=0.1.18->embedchain>=0.1.114->crewai-tools>=0.13.2->crewai[tools]) (4.0.0)\n"
          ]
        }
      ]
    },
    {
      "cell_type": "code",
      "source": [
        "!pip install gdown"
      ],
      "metadata": {
        "colab": {
          "base_uri": "https://localhost:8080/"
        },
        "collapsed": true,
        "id": "IZ6OAbHO0NJw",
        "outputId": "50c3e2b3-9d01-42a0-88e1-2b87d54851a0"
      },
      "execution_count": 11,
      "outputs": [
        {
          "output_type": "stream",
          "name": "stdout",
          "text": [
            "Requirement already satisfied: gdown in /usr/local/lib/python3.10/dist-packages (5.2.0)\n",
            "Requirement already satisfied: beautifulsoup4 in /usr/local/lib/python3.10/dist-packages (from gdown) (4.12.3)\n",
            "Requirement already satisfied: filelock in /usr/local/lib/python3.10/dist-packages (from gdown) (3.16.1)\n",
            "Requirement already satisfied: requests[socks] in /usr/local/lib/python3.10/dist-packages (from gdown) (2.32.3)\n",
            "Requirement already satisfied: tqdm in /usr/local/lib/python3.10/dist-packages (from gdown) (4.66.5)\n",
            "Requirement already satisfied: soupsieve>1.2 in /usr/local/lib/python3.10/dist-packages (from beautifulsoup4->gdown) (2.6)\n",
            "Requirement already satisfied: charset-normalizer<4,>=2 in /usr/local/lib/python3.10/dist-packages (from requests[socks]->gdown) (3.4.0)\n",
            "Requirement already satisfied: idna<4,>=2.5 in /usr/local/lib/python3.10/dist-packages (from requests[socks]->gdown) (3.10)\n",
            "Requirement already satisfied: urllib3<3,>=1.21.1 in /usr/local/lib/python3.10/dist-packages (from requests[socks]->gdown) (2.2.3)\n",
            "Requirement already satisfied: certifi>=2017.4.17 in /usr/local/lib/python3.10/dist-packages (from requests[socks]->gdown) (2024.8.30)\n",
            "Requirement already satisfied: PySocks!=1.5.7,>=1.5.6 in /usr/local/lib/python3.10/dist-packages (from requests[socks]->gdown) (1.7.1)\n"
          ]
        }
      ]
    },
    {
      "cell_type": "markdown",
      "source": [
        "### Importações essenciais"
      ],
      "metadata": {
        "id": "sLekWLILR8nT"
      }
    },
    {
      "cell_type": "code",
      "source": [
        "# Warning control\n",
        "import warnings\n",
        "warnings.filterwarnings('ignore')\n",
        "\n",
        "import os\n",
        "from google.colab import userdata\n",
        "\n",
        "from crewai_tools import PDFSearchTool\n",
        "from crewai import Agent, Crew, Process, Task\n",
        "\n",
        "import gdown\n",
        "\n",
        "from IPython.display import Markdown"
      ],
      "metadata": {
        "id": "GCnLvhvf0MMt"
      },
      "execution_count": 12,
      "outputs": []
    },
    {
      "cell_type": "markdown",
      "source": [
        "## Configuração da chave da API"
      ],
      "metadata": {
        "id": "YmmAZrynSc2t"
      }
    },
    {
      "cell_type": "code",
      "source": [
        "OPENAI_API_KEY = userdata.get('OPEN_AI_KEY')\n",
        "model_ID = userdata.get('GPT_MODEL')\n",
        "\n",
        "\n",
        "os.environ[\"OPENAI_API_KEY\"] = OPENAI_API_KEY\n",
        "os.environ[\"OPENAI_MODEL_NAME\"] = model_ID"
      ],
      "metadata": {
        "id": "2IQUgNYYv4uG"
      },
      "execution_count": 13,
      "outputs": []
    },
    {
      "cell_type": "markdown",
      "source": [
        "## Download das Provas e Gabaritos do ENEM (2011-2023)"
      ],
      "metadata": {
        "id": "Jt21qcUqSg5l"
      }
    },
    {
      "cell_type": "code",
      "source": [
        "# URL do arquivo compartilhado no Google Drive\n",
        "file_url = \"https://drive.google.com/uc?id=1ahPqSEA6vaqxP8tzo2lQmiuQdItOU6aI\"\n",
        "\n",
        "# Baixar o arquivo\n",
        "output_path = \"/content/provas_combinadas.pdf\"\n",
        "gdown.download(file_url, output_path, quiet=False)\n",
        "\n",
        "print(f\"Arquivo baixado e salvo como: {output_path}\")"
      ],
      "metadata": {
        "colab": {
          "base_uri": "https://localhost:8080/"
        },
        "id": "7UqnSdpp4hDe",
        "outputId": "bb978eb1-234a-4435-bd69-385672f5042c"
      },
      "execution_count": 14,
      "outputs": [
        {
          "output_type": "stream",
          "name": "stderr",
          "text": [
            "Downloading...\n",
            "From (original): https://drive.google.com/uc?id=1ahPqSEA6vaqxP8tzo2lQmiuQdItOU6aI\n",
            "From (redirected): https://drive.google.com/uc?id=1ahPqSEA6vaqxP8tzo2lQmiuQdItOU6aI&confirm=t&uuid=bb2c34f5-4cbf-4071-9c41-89c55d6d2eff\n",
            "To: /content/provas_combinadas.pdf\n",
            "100%|██████████| 144M/144M [00:01<00:00, 127MB/s]\n"
          ]
        },
        {
          "output_type": "stream",
          "name": "stdout",
          "text": [
            "Arquivo baixado e salvo como: /content/provas_combinadas.pdf\n"
          ]
        }
      ]
    },
    {
      "cell_type": "markdown",
      "source": [
        "## Atribuição do arquivo ao pdf_tool(CrewAI Tool)"
      ],
      "metadata": {
        "id": "3ONHhiEzSzbs"
      }
    },
    {
      "cell_type": "code",
      "source": [
        "pdf_tool = PDFSearchTool(directory='/content/provas_combinadas.pdf')"
      ],
      "metadata": {
        "id": "g44pqt10xvGW"
      },
      "execution_count": 15,
      "outputs": []
    },
    {
      "cell_type": "markdown",
      "source": [
        "## Criação dos Agentes"
      ],
      "metadata": {
        "id": "EWQlQCU5S9nJ"
      }
    },
    {
      "cell_type": "code",
      "source": [
        "agente_diagnostico = Agent(\n",
        "    role= 'Diagnosticar o candidato',\n",
        "    goal= 'Apontar as virtudes e deficiências do candidato com base nas notas de {linguagens}, {humanas}, {natureza}, {matemática}, {redação}',\n",
        "    backstory= 'Especialista em analisar candidatos do ENEM com base nas notas obtidas',\n",
        "    verbose=True,\n",
        "    memory=True\n",
        ")"
      ],
      "metadata": {
        "id": "6mGuGsnoWUcA"
      },
      "execution_count": 44,
      "outputs": []
    },
    {
      "cell_type": "code",
      "source": [
        "agente_gerador_de_planos = Agent(\n",
        "    role= 'Gerador de Planos de estudos',\n",
        "    goal= 'Criar um plano de estudos personalizado para o usuário com base no diagnóstico do desempenho do mesmo',\n",
        "    backstory= 'Especialista em planejamento educacional e otimização de sessões de estudo para exames, especializado no ENEM',\n",
        "    verbose=True,\n",
        "    memory=True\n",
        ")"
      ],
      "metadata": {
        "id": "75paYA_EWUQc"
      },
      "execution_count": 45,
      "outputs": []
    },
    {
      "cell_type": "code",
      "source": [
        "agente_estrategista = Agent(\n",
        "    role= 'Estrategista de estudos e resolução de provas do ENEM',\n",
        "    goal= 'Sugerir estratégias de estudo e resolução de provas do ENEM com base no diagnóstico do desempenho do mesmo',\n",
        "    backstory= 'Especialista em diferentes estratégias de estudo e resolução de provas do ENEM',\n",
        "    verbose=True,\n",
        "    memory=True\n",
        ")"
      ],
      "metadata": {
        "id": "cHWtDBItdmjx"
      },
      "execution_count": 46,
      "outputs": []
    },
    {
      "cell_type": "code",
      "source": [
        "agente_pesquisador_topico = Agent(\n",
        "    role='Pesquisador de Tópicos',\n",
        "    goal='Buscar informações relevantes sobre o {tópico} nos arquivos PDF do ENEM fornecidos.',\n",
        "    verbose=True,\n",
        "    memory=True,\n",
        "    backstory='Especialista em analisar o conteúdo das provas e identificar os tópicos principais com base nos exames anteriores do ENEM.',\n",
        "    tools=[pdf_tool],\n",
        "    allow_delegation=True\n",
        ")\n"
      ],
      "metadata": {
        "id": "byiHWPHnug9y"
      },
      "execution_count": 47,
      "outputs": []
    },
    {
      "cell_type": "code",
      "source": [
        "agente_sumarizador_topico = Agent(\n",
        "    role='Produzir resumos de tópicos com foco no ENEM',\n",
        "    goal='Escrever resumos que auxiliem os estudantes a compreender tópicos e conceitos para o ENEM',\n",
        "    verbose=True,\n",
        "    memory=True,\n",
        "    backstory='Especialista em produzir resumos de conteúdos para candidatos ao ENEM',\n",
        "    allow_delegation=True\n",
        ")\n",
        ""
      ],
      "metadata": {
        "id": "YkZaU81nfpcy"
      },
      "execution_count": 48,
      "outputs": []
    },
    {
      "cell_type": "code",
      "source": [
        "agente_pesquisador_topicos_recorrentes = Agent(\n",
        "    role='Pesquisador de Tópicos Recorrentes',\n",
        "    goal='Buscar os tópicos mais recorrentes de cada área nos arquivos PDF do ENEM fornecidos.',\n",
        "    verbose=True,\n",
        "    memory=True,\n",
        "    backstory='Especialista em analisar o conteúdo das provas e identificar os tópicos principais de cada área com base nos exames anteriores do ENEM.',\n",
        "    tools=[pdf_tool],\n",
        "    allow_delegation=True\n",
        ")"
      ],
      "metadata": {
        "id": "IrC60AwplbNx"
      },
      "execution_count": 49,
      "outputs": []
    },
    {
      "cell_type": "code",
      "source": [
        "agente_sumarizador_topicos_recorrentes = Agent(\n",
        "    role='Produzir resumos dos Tópicos Mais Recorrentes de cada área com foco no ENEM',\n",
        "    goal='Escrever resumos que auxiliem os estudantes a compreender os principais tópicos e conceitos das diferents áreas para o ENEM',\n",
        "    verbose=True,\n",
        "    memory=True,\n",
        "    backstory='Especialista em produzir resumos de conteúdos para candidatos ao ENEM',\n",
        "    allow_delegation=True\n",
        ")"
      ],
      "metadata": {
        "id": "XF7dmn7YrdKP"
      },
      "execution_count": 50,
      "outputs": []
    },
    {
      "cell_type": "markdown",
      "source": [
        "## Criação das Tasks"
      ],
      "metadata": {
        "id": "LFaE288DTAki"
      }
    },
    {
      "cell_type": "code",
      "source": [
        "tarefa_diagnostico = Task (\n",
        "    description=\"Realizar um diagnóstico de desempenho do candidato com base nas notas de {linguagens}, {humanas}, {natureza}, {matemática}, {redação}.\",\n",
        "    expected_output=\"Um relatório completo, mostrando possíveis deficiências, pontos fortes, pontos de melhoria\",\n",
        "    agent=agente_diagnostico\n",
        ")"
      ],
      "metadata": {
        "id": "T7Zc0OmPc77e"
      },
      "execution_count": 51,
      "outputs": []
    },
    {
      "cell_type": "code",
      "source": [
        "tarefa_plano_estudos = Task(\n",
        "    description=\"Criar um plano de estudos personalizado com base no diagnóstico feito\",\n",
        "    expected_output=\"Um plano de estudos, formatado no formato markdwon, estruturado com tópicos diários, questões e recursos.\",\n",
        "    agent= agente_gerador_de_planos,\n",
        "    context = [tarefa_diagnostico],\n",
        "    output_file='/content/plano_de_estudos.md'\n",
        ")"
      ],
      "metadata": {
        "id": "GPDhAIY1x8Ju"
      },
      "execution_count": 52,
      "outputs": []
    },
    {
      "cell_type": "code",
      "source": [
        "tarefa_estrategias = Task(\n",
        "    description='Sugerir novas estrategias de estudo e de resolução de prova com base no diagnóstico feito',\n",
        "    expected_output='Um plano de estratégias de estudo e resolução de prova, formatado no formato markdwon, estruturado com métodos, dicas e estratégias',\n",
        "    agent= agente_estrategista,\n",
        "    context = [tarefa_diagnostico],\n",
        "    output_file='/content/estrategias.md'\n",
        ")"
      ],
      "metadata": {
        "id": "ckld2p9Aelzm"
      },
      "execution_count": 53,
      "outputs": []
    },
    {
      "cell_type": "code",
      "source": [
        "tarefa_buscar_topico = Task(\n",
        "    description='Buscar informações relevantes sobre o {tópico} nos arquivos PDF do ENEM fornecidos.',\n",
        "    expected_output='Um relatório sobre o tópico pesquisado, o que mais foi cobrado no exame, como foi cobrado, qual parte o candidato deve focar',\n",
        "    agent= agente_pesquisador_topico\n",
        ")"
      ],
      "metadata": {
        "id": "xVBFPJdRgrC5"
      },
      "execution_count": 54,
      "outputs": []
    },
    {
      "cell_type": "code",
      "source": [
        "tarefa_produzir_resumo = Task(\n",
        "    description='Escrever resumos que auxiliem os estudantes a compreender tópicos e conceitos para o ENEM com base no relatório produzido acerca dos tópicos',\n",
        "    expected_output='Um resumo sobre o tópico pesquisado, formatado no formato markdwon',\n",
        "    agent= agente_sumarizador_topico,\n",
        "    context = [tarefa_buscar_topico],\n",
        "    output_file='/content/resumo.md'\n",
        ")"
      ],
      "metadata": {
        "id": "C4pd8jgrhC48"
      },
      "execution_count": 55,
      "outputs": []
    },
    {
      "cell_type": "code",
      "source": [
        "tarefa_buscar_topicos_recorrentes = Task(\n",
        "    description='Buscar os tópicos mais recorrentes de cada área(linguagens, humanas, natureza, matemática e redação) nos arquivos PDF do ENEM fornecidos.',\n",
        "    expected_output='Um relatório sobre os principais tópicos de cada área, o que mais foi cobrado no exame, como foi cobrado, qual parte o candidato deve focar',\n",
        "    agent= agente_pesquisador_topicos_recorrentes\n",
        ")"
      ],
      "metadata": {
        "id": "0a6wgkVirwL0"
      },
      "execution_count": 56,
      "outputs": []
    },
    {
      "cell_type": "code",
      "source": [
        "tarefa_produzir_resumo_topicos_recorrentes = Task(\n",
        "    description='Escrever resumos que auxiliem os estudantes a compreender os principais tópicos e conceitos das diferents áreas para o ENEM com base no relatório produzido acerca dos principais tópicos',\n",
        "    expected_output='Um resumo sobre o tópico pesquisado, formatado no formato markdwon',\n",
        "    agent= agente_sumarizador_topicos_recorrentes,\n",
        "    context = [tarefa_buscar_topicos_recorrentes],\n",
        "    output_file='/content/resumo_recorrentes.md'\n",
        ")"
      ],
      "metadata": {
        "id": "dSEePAcarzpt"
      },
      "execution_count": 57,
      "outputs": []
    },
    {
      "cell_type": "markdown",
      "source": [
        "## Criação das Crews"
      ],
      "metadata": {
        "id": "25_okJ1LTEYC"
      }
    },
    {
      "cell_type": "code",
      "source": [
        "plano_de_estudos_crew = Crew (\n",
        "    agents=[agente_diagnostico, agente_gerador_de_planos],\n",
        "    tasks=[tarefa_diagnostico, tarefa_plano_estudos],\n",
        "    verbose=True,\n",
        "    process=Process.sequential,\n",
        "    memory=True,\n",
        "    cache=True,\n",
        "    share_crew=True\n",
        ")"
      ],
      "metadata": {
        "colab": {
          "base_uri": "https://localhost:8080/"
        },
        "id": "A6E2O3xBbh5C",
        "outputId": "5fed8771-c8c1-4e19-fbf2-1a981a6540a0"
      },
      "execution_count": 58,
      "outputs": [
        {
          "output_type": "stream",
          "name": "stderr",
          "text": [
            "WARNING:opentelemetry.trace:Overriding of current TracerProvider is not allowed\n"
          ]
        }
      ]
    },
    {
      "cell_type": "code",
      "source": [
        "estrategias_crew = Crew (\n",
        "    agents=[agente_diagnostico, agente_estrategista],\n",
        "    tasks=[tarefa_diagnostico, tarefa_estrategias],\n",
        "    verbose=True,\n",
        "    process=Process.sequential,\n",
        "    memory=True,\n",
        "    cache=True,\n",
        "    share_crew=True\n",
        ")"
      ],
      "metadata": {
        "colab": {
          "base_uri": "https://localhost:8080/"
        },
        "id": "jgA3OY75fSct",
        "outputId": "346f6f74-daee-4287-de90-b95ca76ad724"
      },
      "execution_count": 59,
      "outputs": [
        {
          "output_type": "stream",
          "name": "stderr",
          "text": [
            "WARNING:opentelemetry.trace:Overriding of current TracerProvider is not allowed\n"
          ]
        }
      ]
    },
    {
      "cell_type": "code",
      "source": [
        "resumo_crew = Crew (\n",
        "    agents=[agente_pesquisador_topico, agente_sumarizador_topico],\n",
        "    tasks=[tarefa_buscar_topico, tarefa_produzir_resumo],\n",
        "    verbose=True,\n",
        "    process=Process.sequential,\n",
        "    memory=True,\n",
        "    cache=True,\n",
        "    share_crew=True\n",
        ")"
      ],
      "metadata": {
        "colab": {
          "base_uri": "https://localhost:8080/"
        },
        "id": "sB4LPFwOlOj2",
        "outputId": "e1abe75f-2da7-4f30-afa0-bec0338dc2a3"
      },
      "execution_count": 60,
      "outputs": [
        {
          "output_type": "stream",
          "name": "stderr",
          "text": [
            "WARNING:opentelemetry.trace:Overriding of current TracerProvider is not allowed\n"
          ]
        }
      ]
    },
    {
      "cell_type": "code",
      "source": [
        "resumo_recorrentes_crew = Crew (\n",
        "    agents=[agente_pesquisador_topicos_recorrentes, agente_sumarizador_topicos_recorrentes],\n",
        "    tasks=[tarefa_buscar_topicos_recorrentes, tarefa_produzir_resumo_topicos_recorrentes],\n",
        "    verbose=True,\n",
        "    process=Process.sequential,\n",
        "    memory=True,\n",
        "    cache=True,\n",
        "    share_crew=True\n",
        ")"
      ],
      "metadata": {
        "colab": {
          "base_uri": "https://localhost:8080/"
        },
        "id": "DgEMbjeMfXbC",
        "outputId": "356deaa4-f893-4db3-8ab9-3332ff7aea00"
      },
      "execution_count": 61,
      "outputs": [
        {
          "output_type": "stream",
          "name": "stderr",
          "text": [
            "WARNING:opentelemetry.trace:Overriding of current TracerProvider is not allowed\n"
          ]
        }
      ]
    },
    {
      "cell_type": "markdown",
      "source": [
        "## Funções para lidar com as entradas do usuário e dar o kickoff da crew correta"
      ],
      "metadata": {
        "id": "tzlw5e7fTHmI"
      }
    },
    {
      "cell_type": "code",
      "source": [
        "# Função para criar o plano de estudos\n",
        "def criar_plano_de_estudos():\n",
        "    notas = input(\"Informe suas últimas notas obtidas em linguagens, humanas, natureza, matemática e redação (utlize '.' para as notas e as separe por vírgula): \").split(',')\n",
        "    notas = [t.strip() for t in notas]  # Remover espaços em branco\n",
        "    inputs = {\n",
        "        'linguagens': notas[0],\n",
        "        'humanas': notas[1],\n",
        "        'natureza': notas[2],\n",
        "        'matemática': notas[3],\n",
        "        'redação': notas[4]\n",
        "    }\n",
        "    results = plano_de_estudos_crew.kickoff(inputs=inputs)\n",
        "    print(\"Plano de estudos criado com sucesso!\")\n",
        "    results\n",
        "\n",
        "def pesquisar_topico():\n",
        "    topicos_input = input(\"Por favor, informe os tópicos que você gostaria de estudar, separados por vírgula: \")\n",
        "    topicos = [topico.strip() for topico in topicos_input.split(',')]\n",
        "    inputs_array = [{'tópico': topico} for topico in topicos]\n",
        "    results = plano_de_estudos_crew.kickoff_for_each(inputs=inputs_array)\n",
        "    print(\"Pesquisa concluída. Verifique os resultados para os tópicos informados.\")\n",
        "    results\n",
        "\n",
        "def criar_estrategias():\n",
        "    notas = input(\"Informe suas últimas notas obtidas em linguagens, humanas, natureza, matemática e redação (utlize '.' para as notas e as separe por vírgula): \").split(',')\n",
        "    notas = [t.strip() for t in notas]  # Remover espaços em branco\n",
        "    inputs = {\n",
        "        'linguagens': notas[0],\n",
        "        'humanas': notas[1],\n",
        "        'natureza': notas[2],\n",
        "        'matemática': notas[3],\n",
        "        'redação': notas[4]\n",
        "    }\n",
        "    results = estrategias_crew.kickoff(inputs=inputs)\n",
        "    print(\"Plano de estratégias criado com sucesso!\")\n",
        "    results\n",
        "\n",
        "def pesquisar_topicos_recorrentes():\n",
        "    results = resumo_recorrentes_crew.kickoff()\n",
        "    print(\"Pesquisa concluída. Verifique os resultados para os principais tópicos.\")\n",
        "    results\n"
      ],
      "metadata": {
        "id": "br_G-E4Tx-As"
      },
      "execution_count": 66,
      "outputs": []
    },
    {
      "cell_type": "markdown",
      "source": [
        "## Menu de interação com o usuário"
      ],
      "metadata": {
        "id": "lJoHDavNTQAh"
      }
    },
    {
      "cell_type": "code",
      "source": [
        "# Menu interativo\n",
        "def menu():\n",
        "    while True:\n",
        "        print(\"\\nMenu:\")\n",
        "        print(\"1. Criar plano de estudos\")\n",
        "        print(\"2. Pesquisar tópico(s)\")\n",
        "        print(\"3. Elaborar estratégias\")\n",
        "        print(\"4. Resumo dos principais tópicos\")\n",
        "        print(\"5. Sair\")\n",
        "        choice = input(\"Escolha uma opção (1-5): \")\n",
        "\n",
        "        if choice == '1':\n",
        "            criar_plano_de_estudos()\n",
        "        elif choice == '2':\n",
        "            pesquisar_topico()\n",
        "        elif choice == '3':\n",
        "            criar_estrategias()\n",
        "        elif choice == '4':\n",
        "            pesquisar_topicos_recorrentes()\n",
        "        elif choice == '5':\n",
        "            print(\"Saindo do programa...\")\n",
        "            break\n",
        "        else:\n",
        "            print(\"Opção inválida! Tente novamente.\")\n",
        "\n",
        "menu()"
      ],
      "metadata": {
        "id": "awdPXUkyx6tE",
        "colab": {
          "base_uri": "https://localhost:8080/"
        },
        "outputId": "90988d69-b10c-4a5c-fe28-4a8949ce66c3"
      },
      "execution_count": 67,
      "outputs": [
        {
          "output_type": "stream",
          "name": "stdout",
          "text": [
            "\n",
            "Menu:\n",
            "1. Criar plano de estudos\n",
            "2. Pesquisar tópico(s)\n",
            "3. Elaborar estratégias\n",
            "4. Resumo dos principais tópicos\n",
            "5. Sair\n",
            "Escolha uma opção (1-5): 3\n",
            "Informe suas últimas notas obtidas em linguagens, humanas, natureza, matemática e redação (utlize '.' para as notas e as separe por vírgula): 287.6, 302.9, 290.9, 350, 403\n",
            "\u001b[1m\u001b[95m# Agent:\u001b[00m \u001b[1m\u001b[92mDiagnosticar o candidato\u001b[00m\n",
            "\u001b[95m## Task:\u001b[00m \u001b[92mRealizar um diagnóstico de desempenho do candidato com base nas notas de 287.6, 302.9, 290.9, 350, 403.\u001b[00m\n",
            "\n",
            "\n",
            "\u001b[1m\u001b[95m# Agent:\u001b[00m \u001b[1m\u001b[92mDiagnosticar o candidato\u001b[00m\n",
            "\u001b[95m## Final Answer:\u001b[00m \u001b[92m\n",
            "Após analisar as notas do candidato no ENEM (287.6, 302.9, 290.9, 350, 403), é possível identificar algumas características importantes em seu desempenho acadêmico.\n",
            "\n",
            "Pontos Fortes:\n",
            "1. Consistência: O candidato apresentou notas estáveis em torno de 290 a 350, o que demonstra uma performance equilibrada ao longo das provas.\n",
            "2. Alto Desempenho: Destaca-se a excelente pontuação de 403 em uma das provas, indicando um bom nível de conhecimento e habilidade em determinadas áreas.\n",
            "3. Capacidade de Superar Desafios: A diferença entre as notas mais baixas e mais altas mostra uma capacidade de superação e melhoria ao longo do tempo.\n",
            "\n",
            "Pontos de Melhoria:\n",
            "1. Regularidade: Embora tenha obtido boas notas, a presença de variações significativas entre os resultados sugere a necessidade de maior consistência no desempenho.\n",
            "2. Foco em Certas Áreas: É importante identificar em quais disciplinas o candidato obteve as notas mais baixas para direcionar esforços de estudo e melhorar seu desempenho geral.\n",
            "3. Estratégias de Estudo: Investir em métodos de estudo mais eficazes e buscar auxílio para fortalecer as áreas de menor domínio pode contribuir para um desempenho mais equilibrado.\n",
            "\n",
            "Em resumo, o candidato apresenta um desempenho geral positivo, com destaque para suas habilidades consistentes e potencial para crescer academicamente. Identificar e trabalhar em suas áreas de melhoria podem ajudá-lo a alcançar um desempenho ainda melhor no futuro.\u001b[00m\n",
            "\n",
            "\n",
            "\u001b[1m\u001b[95m# Agent:\u001b[00m \u001b[1m\u001b[92mEstrategista de estudos e resolução de provas do ENEM\u001b[00m\n",
            "\u001b[95m## Task:\u001b[00m \u001b[92mSugerir novas estrategias de estudo e de resolução de prova com base no diagnóstico feito\u001b[00m\n",
            "\n",
            "\n",
            "\u001b[1m\u001b[95m# Agent:\u001b[00m \u001b[1m\u001b[92mEstrategista de estudos e resolução de provas do ENEM\u001b[00m\n",
            "\u001b[95m## Final Answer:\u001b[00m \u001b[92m\n",
            "## Estratégias de Estudo e Resolução de Provas para o ENEM:\n",
            "\n",
            "### Pontos Fortes:\n",
            "1. **Consistência:**\n",
            "   - Continuar mantendo a regularidade nas notas ao longo das provas é essencial. Para isso, recomenda-se manter uma rotina de estudos equilibrada, distribuindo o tempo de forma a revisar todos os conteúdos de maneira uniforme.\n",
            "\n",
            "2. **Alto Desempenho:**\n",
            "   - Ao identificar as áreas em que obteve a melhor pontuação, o candidato pode focar em aprimorar ainda mais seus conhecimentos nessas disciplinas. Utilize materiais de estudo mais avançados e desafiadores para expandir seu potencial.\n",
            "\n",
            "3. **Capacidade de Superar Desafios:**\n",
            "   - Para continuar superando desafios, é recomendado estabelecer metas de estudo claras e progressivas. Procure resolver exercícios difíceis e participar de simulados para desenvolver ainda mais suas habilidades de resolução de problemas.\n",
            "\n",
            "### Pontos de Melhoria:\n",
            "1. **Regularidade:**\n",
            "   - Para melhorar a regularidade nas notas, é aconselhável criar um plano de estudos personalizado, priorizando disciplinas com menor desempenho. Estabeleça metas semanais e monitore seu progresso para garantir consistência.\n",
            "\n",
            "2. **Foco em Certas Áreas:**\n",
            "   - Identifique as disciplinas com menor pontuação e dedique mais tempo a elas. Utilize técnicas de estudo específicas para essas áreas, como resumos, mapas mentais e explicação para si mesmo dos conceitos.\n",
            "\n",
            "3. **Estratégias de Estudo:**\n",
            "   - Experimente diferentes métodos de estudo, como estudo em grupo, uso de plataformas online, aulas particulares, entre outros. Escolha aqueles que se adequam melhor ao seu estilo de aprendizagem e que ajudem a fortalecer suas áreas de menor domínio.\n",
            "\n",
            "### Dicas Adicionais:\n",
            "- **Estabeleça Horários de Estudo:** Crie uma rotina de estudos com horários fixos para cada disciplina, alternando entre momentos de estudo e pausas para descanso.\n",
            "- **Revise Constantemente:** Faça revisões periódicas dos conteúdos estudados para reforçar a memorização e garantir um melhor desempenho nas provas.\n",
            "- **Simulados e Provas Anteriores:** Realize simulados e resolva provas de anos anteriores do ENEM para se familiarizar com o formato da prova e identificar quais áreas precisam de mais atenção.\n",
            "\n",
            "Seguindo essas estratégias e dicas, o candidato poderá aprimorar seu desempenho acadêmico, superar desafios e alcançar resultados ainda mais positivos no ENEM.\u001b[00m\n",
            "\n",
            "\n",
            "Plano de estratégias criado com sucesso!\n",
            "\n",
            "Menu:\n",
            "1. Criar plano de estudos\n",
            "2. Pesquisar tópico(s)\n",
            "3. Elaborar estratégias\n",
            "4. Resumo dos principais tópicos\n",
            "5. Sair\n",
            "Escolha uma opção (1-5): 5\n",
            "Saindo do programa...\n"
          ]
        }
      ]
    },
    {
      "cell_type": "code",
      "source": [],
      "metadata": {
        "id": "iPwIS3jV5EXf"
      },
      "execution_count": null,
      "outputs": []
    }
  ]
}